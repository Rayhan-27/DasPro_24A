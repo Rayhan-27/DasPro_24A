{
 "cells": [
  {
   "cell_type": "code",
   "execution_count": 25,
   "id": "3d9dde4c-1ee3-4802-9588-88c177449905",
   "metadata": {},
   "outputs": [],
   "source": [
    "def reverse_per_kata(kalimat):\n",
    "    list_kata = kalimat.split()\n",
    "    hasil = [kata[::-1] for kata in list_kata] #menggunakan slicing dengan step negatif 1 atau -1\n",
    "    return \" \".join(hasil)"
   ]
  },
  {
   "cell_type": "code",
   "execution_count": 26,
   "id": "36d58a53-c984-43f6-a3c5-e12f08c52cf6",
   "metadata": {},
   "outputs": [],
   "source": [
    "def urutkan_kalimat(kalimat, urutan): #urutan yaitu indeks posisi baru untuk menyusun kalimatnya \n",
    "    list_kata = kalimat.split()\n",
    "    hasil = [list_kata[i - 1] for i in urutan]\n",
    "    return \" \".join(hasil)"
   ]
  },
  {
   "cell_type": "code",
   "execution_count": 27,
   "id": "5174f0ff-402c-40ce-a9d9-4e308f0c9816",
   "metadata": {},
   "outputs": [],
   "source": [
    "def ganti_vokal(kalimat, opsi):\n",
    "    #KAMUS\n",
    "    vokal_kecil = {'a': '4', 'i': '1', 'u': '|_|', 'e': '3', 'o': '0'}\n",
    "    vokal_besar = {'A': '4', 'I': '1', 'U': '|_|', 'E': '3', 'O': '0'}\n",
    "    hasil = \"\" #membuat wadah kosong untuk menyimpan hasil huruf yang sudah di ubah\n",
    "    for huruf in kalimat:\n",
    "        if opsi == 1 and huruf in vokal_kecil:\n",
    "            hasil += vokal_kecil[huruf]\n",
    "        elif opsi == 2 and huruf in vokal_besar:\n",
    "            hasil += vokal_besar[huruf]\n",
    "        else:\n",
    "            hasil += huruf\n",
    "    return hasil"
   ]
  },
  {
   "cell_type": "code",
   "execution_count": 28,
   "id": "eea10ad9-2535-41b2-a3c2-06b7c8b71204",
   "metadata": {},
   "outputs": [
    {
     "name": "stdout",
     "output_type": "stream",
     "text": [
      "UKA ATNIC UMAK\n",
      "PYTHON HARI BELAJAR SEDANG INI\n",
      "Ak|_| C1nt4 K4m|_|\n",
      "4ku Cinta Kamu\n"
     ]
    }
   ],
   "source": [
    "print(reverse_per_kata(\"AKU CINTA KAMU\"))\n",
    "print(urutkan_kalimat(\"HARI INI SEDANG BELAJAR PYTHON\", [5, 1, 4, 3, 2]))\n",
    "print(ganti_vokal(\"Aku Cinta Kamu\", 1))\n",
    "print(ganti_vokal(\"Aku Cinta Kamu\", 2))"
   ]
  },
  {
   "cell_type": "code",
   "execution_count": null,
   "id": "a7a5e872-1823-41f4-85b8-8ce607e691d1",
   "metadata": {},
   "outputs": [],
   "source": []
  }
 ],
 "metadata": {
  "kernelspec": {
   "display_name": "Python [conda env:base] *",
   "language": "python",
   "name": "conda-base-py"
  },
  "language_info": {
   "codemirror_mode": {
    "name": "ipython",
    "version": 3
   },
   "file_extension": ".py",
   "mimetype": "text/x-python",
   "name": "python",
   "nbconvert_exporter": "python",
   "pygments_lexer": "ipython3",
   "version": "3.12.7"
  }
 },
 "nbformat": 4,
 "nbformat_minor": 5
}
