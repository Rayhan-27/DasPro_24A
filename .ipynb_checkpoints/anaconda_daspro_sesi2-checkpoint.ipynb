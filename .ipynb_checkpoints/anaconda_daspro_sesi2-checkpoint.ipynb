{
 "cells": [
  {
   "cell_type": "markdown",
   "id": "4d71d471-6156-4fe5-8940-156f0daece5d",
   "metadata": {},
   "source": [
    "<img src=\"https://upload.wikimedia.org/wikipedia/commons/thumb/0/0a/Python.svg/1200px-Python.svg.png\" width=\"400\"> </center> <br>\n",
    "Tutorial Jupiter Notebook <br>\n",
    "Tempat Menuliskan kode disebut sebagai <b>cell</b><br>\n",
    "<ol>\n",
    "    <li>Code - Y</li>\n",
    "    <li>Markdown - M</li>\n",
    "</ol>\n",
    "\n",
    "<hr>\n",
    "Cara menjalankan Cell<br>\n",
    "\n",
    "<table>\n",
    "    <tr>\n",
    "        <td>Command</td>\n",
    "        <td>Keterangan</td>\n",
    "    </tr>\n",
    "    <tr>\n",
    "        <td>ctrl + enter</td>\n",
    "        <td>Running dan fokus di cell aktif</td>\n",
    "    </tr>\n",
    "    <tr>\n",
    "        <td>shift + enter</td>\n",
    "        <td>Running dan fokus di cell berikutnya</td>\n",
    "    </tr>\n",
    "</table>"
   ]
  },
  {
   "cell_type": "markdown",
   "id": "538cd3bb-0a8b-4359-8c02-76a606d7e0e7",
   "metadata": {},
   "source": [
    "Menambahkan Cell ada 2 cara \n",
    "<ul>\n",
    "    <li>Tekan A -> Above</li>\n",
    "    <li>Tekan B -> Below</li>\n",
    "</ul>\n",
    "Cara membuat output di python adalah <br>\n",
    "```\n",
    "    print (teks yang akan di print)\n",
    "```"
   ]
  },
  {
   "cell_type": "code",
   "execution_count": 7,
   "id": "0c3b6a29-cdaa-40b4-8be5-717a2c0fa8ff",
   "metadata": {},
   "outputs": [
    {
     "name": "stdout",
     "output_type": "stream",
     "text": [
      "selamat belajar python\n",
      "Selamat Belajar Variabel\n"
     ]
    }
   ],
   "source": [
    "#Cetak tulisan selamat belajar python\n",
    "print (\"selamat belajar python\")\n",
    "data = \"Selamat Belajar Variabel\"\n",
    "print(data)"
   ]
  },
  {
   "cell_type": "code",
   "execution_count": 15,
   "id": "4658c7dc-0f22-49a1-a6c8-aab958e83f4a",
   "metadata": {},
   "outputs": [
    {
     "name": "stdout",
     "output_type": "stream",
     "text": [
      "Selamat Belajar Variabel\n"
     ]
    },
    {
     "data": {
      "text/plain": [
       "15"
      ]
     },
     "execution_count": 15,
     "metadata": {},
     "output_type": "execute_result"
    }
   ],
   "source": [
    "print (data)\n",
    "data\n",
    "3 + 5 #tidak akan terbaca karena yang di jalankan yang paling bawah\n",
    "num1 = 6\n",
    "num2 = 9\n",
    "num1 + num2 "
   ]
  }
 ],
 "metadata": {
  "kernelspec": {
   "display_name": "Python 3 (ipykernel)",
   "language": "python",
   "name": "python3"
  },
  "language_info": {
   "codemirror_mode": {
    "name": "ipython",
    "version": 3
   },
   "file_extension": ".py",
   "mimetype": "text/x-python",
   "name": "python",
   "nbconvert_exporter": "python",
   "pygments_lexer": "ipython3",
   "version": "3.12.7"
  }
 },
 "nbformat": 4,
 "nbformat_minor": 5
}
