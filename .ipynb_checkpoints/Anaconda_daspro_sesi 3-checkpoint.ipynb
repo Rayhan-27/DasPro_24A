{
 "cells": [
  {
   "cell_type": "code",
   "execution_count": 1,
   "id": "5899f56a-e6b1-483f-9ddc-7bb6a75db016",
   "metadata": {},
   "outputs": [
    {
     "name": "stdout",
     "output_type": "stream",
     "text": [
      "Nama :  Dedi\n",
      "Umur :  20\n",
      "Alamat :  Jl. Cibolang\n",
      "Nilai Pemrograman :  80.5\n",
      "Status Menikah :  False\n"
     ]
    }
   ],
   "source": [
    "name = \"Dedi\"\n",
    "age = 20\n",
    "address,province = \"Jl. Cibolang\",\"7413412\"\n",
    "scorePython = 80.5\n",
    "isMarried = False #biasanya untuk tipe boolean pakai \"is\" dan boolean pakai huruf besar di awal \"False\" atau \"True\"\n",
    "\n",
    "print(\"Nama : \",name)\n",
    "print(\"Umur : \",age)\n",
    "print(\"Alamat : \",address)\n",
    "print(\"Nilai Pemrograman : \",scorePython)\n",
    "print(\"Status Menikah : \",isMarried)"
   ]
  },
  {
   "cell_type": "code",
   "execution_count": 2,
   "id": "ff15808d-25c8-4e2e-a331-10ea057ec22b",
   "metadata": {},
   "outputs": [
    {
     "name": "stdout",
     "output_type": "stream",
     "text": [
      "Tipe Data <name> <class 'str'>\n",
      "Tipe Data <age> <class 'int'>\n",
      "Tipe Data <address> <class 'str'>\n",
      "Tipe Data <province> <class 'str'>\n",
      "Tipe Data <scorePython> <class 'float'>\n",
      "Tipe Data <isMarried> <class 'bool'>\n"
     ]
    }
   ],
   "source": [
    "print(\"Tipe Data <name>\",type(name))\n",
    "print(\"Tipe Data <age>\",type(age))\n",
    "print(\"Tipe Data <address>\",type(address))\n",
    "print(\"Tipe Data <province>\",type(province))\n",
    "print(\"Tipe Data <scorePython>\",type(scorePython))\n",
    "print(\"Tipe Data <isMarried>\",type(isMarried))"
   ]
  },
  {
   "cell_type": "code",
   "execution_count": 11,
   "id": "36416d03-cc45-4f7d-a9af-f3d63acb17ab",
   "metadata": {},
   "outputs": [
    {
     "name": "stdout",
     "output_type": "stream",
     "text": [
      "------- Konversi str -------\n",
      "7413412-7413412.0-True\n",
      "------- Konversi int -------\n",
      "20_20.0_True\n",
      "------- Konversi bool -------\n",
      "0_0.0_False\n"
     ]
    }
   ],
   "source": [
    "#Casting atau Konversi Tipe Data\n",
    "#Konversi dari String ke (int,float,bool)\n",
    "strToInt = int(province)\n",
    "strToFloat = float(province)\n",
    "strToBool = bool(province)\n",
    "\n",
    "print(\"------- Konversi str -------\")\n",
    "print(strToInt,strToFloat,strToBool, sep=\"-\")\n",
    "#------------------------------------------------------------------------\n",
    "#Konversi dari int ke (str,float,bool)\n",
    "intToStr = str(age)\n",
    "intToFloat = float(age)\n",
    "intToBool = bool(age)\n",
    "\n",
    "print(\"------- Konversi int -------\")\n",
    "print(intToStr,intToFloat,intToBool, sep=\"_\")\n",
    "#------------------------------------------------------------------------\n",
    "#Konversi dari bool ke (int,float,str)\n",
    "boolToInt = int(isMarried)\n",
    "boolToFloat = float(isMarried)\n",
    "boolToStr = str(isMarried)\n",
    "\n",
    "print(\"------- Konversi bool -------\")\n",
    "print(boolToInt,boolToFloat,boolToStr, sep=\"_\")\n"
   ]
  },
  {
   "cell_type": "code",
   "execution_count": 16,
   "id": "14f25cf5-484b-4880-abd5-eed83a6997c4",
   "metadata": {},
   "outputs": [
    {
     "name": "stdout",
     "output_type": "stream",
     "text": [
      "B\n",
      "g\n",
      "Panjangnya adalah  7\n"
     ]
    }
   ],
   "source": [
    "#Mengambil indeks dari string\n",
    "city = \"Bandung\"\n",
    "print(city[0])\n",
    "lenCity = len(city) #panjang dari string\n",
    "print(city[lenCity-1])\n",
    "print(\"Panjangnya adalah \",lenCity)\n"
   ]
  },
  {
   "cell_type": "code",
   "execution_count": 22,
   "id": "a4994d7f-620b-4c1f-bd15-d102cda6f967",
   "metadata": {},
   "outputs": [
    {
     "name": "stdout",
     "output_type": "stream",
     "text": [
      "Nilai desimal =  200\n",
      "Nilai desimal dari 0xff =  255\n",
      "Nilai desimal dari 0b1010 =  10\n",
      "Nilai desimal dari 0o377 =  255\n",
      "---------------------------------------------------------------------------------\n",
      "Nilai biner dari  200  =  0b11001000\n",
      "Nilai octal dari  200  =  0o310\n",
      "Nilai hexa dari  200  =  0xc8\n"
     ]
    }
   ],
   "source": [
    "desimal = 200\n",
    "hexa = 0xff\n",
    "biner = 0b1010\n",
    "octal = 0o377\n",
    "\n",
    "print(\"Nilai desimal = \",desimal)\n",
    "print(\"Nilai desimal dari 0xff = \",hexa)\n",
    "print(\"Nilai desimal dari 0b1010 = \",biner)\n",
    "print(\"Nilai desimal dari 0o377 = \",octal)\n",
    "\n",
    "print(\"---------------------------------------------------------------------------------\")\n",
    "\n",
    "print(\"Nilai biner dari \",desimal, \" = \",bin(desimal))\n",
    "print(\"Nilai octal dari \",desimal, \" = \",oct(desimal))\n",
    "print(\"Nilai hexa dari \",desimal, \" = \",hex(desimal))"
   ]
  },
  {
   "cell_type": "code",
   "execution_count": 37,
   "id": "fb2ba47e-2411-42f3-bcea-276fc54978fd",
   "metadata": {},
   "outputs": [
    {
     "name": "stdout",
     "output_type": "stream",
     "text": [
      "['Sukabumi', 'Bandung', 'Bogor', 'Jakarta']\n",
      "Sukabumi\n",
      "Jakarta\n",
      "['Sukabumi', 'Medan', 'Bogor', 'Jakarta']\n",
      "J\n",
      "---------------------------------------------------------------------------------\n",
      "('Andi', 'Budi', 'Caca')\n",
      "{'name': 'Dedi', 'address': {'street': 'Cisaat', 'number': 21, 'province': 'West Java'}, 'age': 23, 'isMarried': True}\n",
      "West Java\n",
      "-------------------------------------------------------------------------\n",
      "{'name': 'Budi', 'address': {'street': 'Bogor', 'number': 25, 'province': 'West Java'}, 'age': 26, 'isMarried': False}\n",
      "Football\n",
      "23\n"
     ]
    }
   ],
   "source": [
    "#Tipe Data Collection\n",
    "\n",
    "cities = [\"Sukabumi\",\"Bandung\",\"Bogor\",\"Jakarta\"]\n",
    "print(cities)\n",
    "print(cities[0])\n",
    "print(cities[len(cities)-1]) #mengambil indeks paling belakang\n",
    "cities[1] = \"Medan\"\n",
    "print(cities)\n",
    "print(cities[len(cities)-1][0]) #ngambil indeks di dalam indeks\n",
    "print(\"---------------------------------------------------------------------------------\")\n",
    "\n",
    "#Tuple\n",
    "names = (\"Andi\",\"Budi\",\"Caca\")\n",
    "print(names)\n",
    "#names[0] akan menyebabkan error karena tuple adalah immutable\n",
    "\n",
    "#\n",
    "studentData = { #untuk membuat object ketik dulu {} baru di enter di tengah tengah\n",
    "    \"name\" : \"Dedi\",\n",
    "    \"address\" : {\n",
    "        \"street\" : \"Cisaat\",\n",
    "        \"number\" : 21,\n",
    "        \"province\" : \"West Java\"\n",
    "    },\n",
    "    \"age\" : 23,\n",
    "    \"isMarried\" : True\n",
    "}\n",
    "\n",
    "#List of Dictionary \n",
    "listStudent = [ #membuat list sama seperti membuat object harus buat dulu []\n",
    "        {\n",
    "            \"name\" : \"Dedi\",\n",
    "            \"address\" : {\n",
    "                \"street\" : \"Cisaat\",\n",
    "                \"number\" : 21,\n",
    "                \"province\" : \"West Java\"\n",
    "            },\n",
    "            \"hobbies\" : [\"Basket\",\"Football\"], #bila datanya banyak\n",
    "            \"age\" : 23,\n",
    "            \"isMarried\" : True\n",
    "        },\n",
    "        {\n",
    "            \"name\" : \"Budi\",\n",
    "            \"address\" : {\n",
    "                \"street\" : \"Bogor\",\n",
    "                \"number\" : 25,\n",
    "                \"province\" : \"West Java\"\n",
    "            },\n",
    "            \"age\" : 26,\n",
    "            \"isMarried\" : False\n",
    "        }\n",
    "]\n",
    "\n",
    "print(studentData)\n",
    "print(studentData[\"address\"][\"province\"]) #Print object di dalam object\n",
    "print(\"-------------------------------------------------------------------------\")\n",
    "print(listStudent[1])\n",
    "print(listStudent[0][\"hobbies\"][1])\n",
    "print(listStudent[0][\"age\"])"
   ]
  },
  {
   "cell_type": "code",
   "execution_count": 43,
   "id": "7ac20dc2-2055-41ae-8070-75739a896369",
   "metadata": {},
   "outputs": [
    {
     "name": "stdout",
     "output_type": "stream",
     "text": [
      "{'name': 'Dika', 'nilai': 80}\n",
      "{'buah': 'Apel', 'harga': 10000}\n",
      "{'mapel': 'informatika', 'sks': 4}\n",
      "{'Merk': 'Honda', 'tahun': 2005}\n",
      "{'names': 'Adi', 'age': 20, 'address': 'Bandung'}\n"
     ]
    }
   ],
   "source": [
    "#Casting dictionary\n",
    "\n",
    "list_tuple = [(\"name\",\"Dika\"),(\"nilai\",80)]\n",
    "dictStudent = dict(list_tuple)\n",
    "print(dictStudent) #list akan di ubah secara otomatis menjadi object\n",
    "\n",
    "list_list = [[\"buah\",\"Apel\"],[\"harga\",10000]]\n",
    "dictBuah = dict(list_list)\n",
    "print(dictBuah)\n",
    "\n",
    "tuple_tuple = ((\"mapel\",\"informatika\"),(\"sks\",4))\n",
    "dictMapel = dict(tuple_tuple)\n",
    "print(dictMapel)\n",
    "\n",
    "tuple_list = ([\"Merk\",\"Honda\"],[\"tahun\",2005])\n",
    "dictMobil = dict(tuple_list)\n",
    "print(dictMobil)\n",
    "\n",
    "keys = [\"names\",\"age\",\"address\"]\n",
    "values = [\"Adi\",20,\"Bandung\"]\n",
    "dictData = dict(zip(keys,values)) #zip untuk menyatukan antara keys dan values namun harus jumlahnya sama\n",
    "print(dictData)"
   ]
  }
 ],
 "metadata": {
  "kernelspec": {
   "display_name": "Python 3 (ipykernel)",
   "language": "python",
   "name": "python3"
  },
  "language_info": {
   "codemirror_mode": {
    "name": "ipython",
    "version": 3
   },
   "file_extension": ".py",
   "mimetype": "text/x-python",
   "name": "python",
   "nbconvert_exporter": "python",
   "pygments_lexer": "ipython3",
   "version": "3.12.7"
  }
 },
 "nbformat": 4,
 "nbformat_minor": 5
}
