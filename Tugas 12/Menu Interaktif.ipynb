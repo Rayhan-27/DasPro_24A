{
 "cells": [
  {
   "cell_type": "code",
   "execution_count": 1,
   "id": "8d4eb364-4980-4ce9-8cf1-8d15ca31d087",
   "metadata": {},
   "outputs": [
    {
     "name": "stdout",
     "output_type": "stream",
     "text": [
      "\n",
      "    1. Convert\n",
      "    2. Mathematic\n",
      "    3. Ubah Bilangan\n",
      "    4. Exit\n",
      "    \n"
     ]
    },
    {
     "name": "stdin",
     "output_type": "stream",
     "text": [
      "Isikan Pilihan : 1\n"
     ]
    },
    {
     "name": "stdout",
     "output_type": "stream",
     "text": [
      "\n",
      "    1. Cm to Meter\n",
      "    2. Meter to Cm\n",
      "    \n"
     ]
    },
    {
     "name": "stdin",
     "output_type": "stream",
     "text": [
      "Pilih Operasi Yang Di Inginkan :  1\n",
      "Masukkan Panjang (dalam Cm) : 10\n"
     ]
    },
    {
     "name": "stdout",
     "output_type": "stream",
     "text": [
      "Hasil Convert Cm ke Meter dari 10 adalah 0.1\n",
      "\n",
      "    1. Convert\n",
      "    2. Mathematic\n",
      "    3. Ubah Bilangan\n",
      "    4. Exit\n",
      "    \n"
     ]
    },
    {
     "name": "stdin",
     "output_type": "stream",
     "text": [
      "Isikan Pilihan : 1\n"
     ]
    },
    {
     "name": "stdout",
     "output_type": "stream",
     "text": [
      "\n",
      "    1. Cm to Meter\n",
      "    2. Meter to Cm\n",
      "    \n"
     ]
    },
    {
     "name": "stdin",
     "output_type": "stream",
     "text": [
      "Pilih Operasi Yang Di Inginkan :  2\n",
      "Masukkan Panjang (dalam Meter) :  10\n"
     ]
    },
    {
     "name": "stdout",
     "output_type": "stream",
     "text": [
      "Hasil Convert Meter ke Cm dari 10 adalah 1000\n",
      "\n",
      "    1. Convert\n",
      "    2. Mathematic\n",
      "    3. Ubah Bilangan\n",
      "    4. Exit\n",
      "    \n"
     ]
    },
    {
     "name": "stdin",
     "output_type": "stream",
     "text": [
      "Isikan Pilihan : 2\n"
     ]
    },
    {
     "name": "stdout",
     "output_type": "stream",
     "text": [
      "\n",
      "    1. Penjumlahan\n",
      "    2. Perpangkatan\n",
      "    3. Perkalian\n",
      "    \n"
     ]
    },
    {
     "name": "stdin",
     "output_type": "stream",
     "text": [
      "Pilih Operasi yang diinginkan:  1\n",
      "Masukkan basis:  30\n",
      "Masukkan pangkat:  20\n"
     ]
    },
    {
     "name": "stdout",
     "output_type": "stream",
     "text": [
      "Hasil pangkat adalah: 50\n",
      "\n",
      "    1. Convert\n",
      "    2. Mathematic\n",
      "    3. Ubah Bilangan\n",
      "    4. Exit\n",
      "    \n"
     ]
    },
    {
     "name": "stdin",
     "output_type": "stream",
     "text": [
      "Isikan Pilihan : 2\n"
     ]
    },
    {
     "name": "stdout",
     "output_type": "stream",
     "text": [
      "\n",
      "    1. Penjumlahan\n",
      "    2. Perpangkatan\n",
      "    3. Perkalian\n",
      "    \n"
     ]
    },
    {
     "name": "stdin",
     "output_type": "stream",
     "text": [
      "Pilih Operasi yang diinginkan:  2\n",
      "Masukkan bilangan 1:  3\n",
      "Masukkan bilangan 2:  3\n"
     ]
    },
    {
     "name": "stdout",
     "output_type": "stream",
     "text": [
      "Hasil tambah adalah: 27\n",
      "\n",
      "    1. Convert\n",
      "    2. Mathematic\n",
      "    3. Ubah Bilangan\n",
      "    4. Exit\n",
      "    \n"
     ]
    },
    {
     "name": "stdin",
     "output_type": "stream",
     "text": [
      "Isikan Pilihan : 2\n"
     ]
    },
    {
     "name": "stdout",
     "output_type": "stream",
     "text": [
      "\n",
      "    1. Penjumlahan\n",
      "    2. Perpangkatan\n",
      "    3. Perkalian\n",
      "    \n"
     ]
    },
    {
     "name": "stdin",
     "output_type": "stream",
     "text": [
      "Pilih Operasi yang diinginkan:  3\n",
      "Masukkan bilangan 1:  3\n",
      "Masukkan bilangan 2:  3\n"
     ]
    },
    {
     "name": "stdout",
     "output_type": "stream",
     "text": [
      "Hasil kurang adalah: 9\n",
      "\n",
      "    1. Convert\n",
      "    2. Mathematic\n",
      "    3. Ubah Bilangan\n",
      "    4. Exit\n",
      "    \n"
     ]
    },
    {
     "name": "stdin",
     "output_type": "stream",
     "text": [
      "Isikan Pilihan : 3\n"
     ]
    },
    {
     "name": "stdout",
     "output_type": "stream",
     "text": [
      "\n",
      "    1. Desimal to Biner\n",
      "    2. Desimal to Oktal\n",
      "    3. Desimal to Hexadesimal\n",
      "    \n"
     ]
    },
    {
     "name": "stdin",
     "output_type": "stream",
     "text": [
      "Pilih Operasi yang diinginkan:  1\n",
      "Masukkan bilangan desimal:  10\n"
     ]
    },
    {
     "name": "stdout",
     "output_type": "stream",
     "text": [
      "Hasil ubah Desimal ke Biner dari 10 adalah 0b1010\n",
      "\n",
      "    1. Convert\n",
      "    2. Mathematic\n",
      "    3. Ubah Bilangan\n",
      "    4. Exit\n",
      "    \n"
     ]
    },
    {
     "name": "stdin",
     "output_type": "stream",
     "text": [
      "Isikan Pilihan : 3\n"
     ]
    },
    {
     "name": "stdout",
     "output_type": "stream",
     "text": [
      "\n",
      "    1. Desimal to Biner\n",
      "    2. Desimal to Oktal\n",
      "    3. Desimal to Hexadesimal\n",
      "    \n"
     ]
    },
    {
     "name": "stdin",
     "output_type": "stream",
     "text": [
      "Pilih Operasi yang diinginkan:  2\n",
      "Masukkan bilangan desimal:  30\n"
     ]
    },
    {
     "name": "stdout",
     "output_type": "stream",
     "text": [
      "Hasil ubah Desimal ke Oktal dari 30 adalah 0o36\n",
      "\n",
      "    1. Convert\n",
      "    2. Mathematic\n",
      "    3. Ubah Bilangan\n",
      "    4. Exit\n",
      "    \n"
     ]
    },
    {
     "name": "stdin",
     "output_type": "stream",
     "text": [
      "Isikan Pilihan : 3\n"
     ]
    },
    {
     "name": "stdout",
     "output_type": "stream",
     "text": [
      "\n",
      "    1. Desimal to Biner\n",
      "    2. Desimal to Oktal\n",
      "    3. Desimal to Hexadesimal\n",
      "    \n"
     ]
    },
    {
     "name": "stdin",
     "output_type": "stream",
     "text": [
      "Pilih Operasi yang diinginkan:  3\n",
      "Masukkan bilangan desimal:  10\n"
     ]
    },
    {
     "name": "stdout",
     "output_type": "stream",
     "text": [
      "Hasil ubah Desimal ke Hexadesimal dari 10 adalah 0xa\n",
      "\n",
      "    1. Convert\n",
      "    2. Mathematic\n",
      "    3. Ubah Bilangan\n",
      "    4. Exit\n",
      "    \n"
     ]
    },
    {
     "name": "stdin",
     "output_type": "stream",
     "text": [
      "Isikan Pilihan : 4\n"
     ]
    },
    {
     "name": "stdout",
     "output_type": "stream",
     "text": [
      "Thank You!\n"
     ]
    }
   ],
   "source": [
    "import Aritmatika.math as mtk\n",
    "import Konversi.convert as cv\n",
    "import UBilangan.ubilangan as ub\n",
    "\n",
    "def menuUtama():\n",
    "    print(\"\"\"\n",
    "    1. Convert\n",
    "    2. Mathematic\n",
    "    3. Ubah Bilangan\n",
    "    4. Exit\n",
    "    \"\"\")\n",
    "\n",
    "def menuConvert():\n",
    "    print(\"\"\"\n",
    "    1. Cm to Meter\n",
    "    2. Meter to Cm\n",
    "    \"\"\")\n",
    "\n",
    "def menuMath():\n",
    "    print(\"\"\"\n",
    "    1. Penjumlahan\n",
    "    2. Perpangkatan\n",
    "    3. Perkalian\n",
    "    \"\"\")\n",
    "\n",
    "def menuUbahBilangan():\n",
    "    print(\"\"\"\n",
    "    1. Desimal to Biner\n",
    "    2. Desimal to Oktal\n",
    "    3. Desimal to Hexadesimal\n",
    "    \"\"\")\n",
    "\n",
    "while True:\n",
    "    menuUtama()\n",
    "    pilihMenu = int(input(\"Isikan Pilihan :\"))\n",
    "    if pilihMenu == 1:\n",
    "        menuConvert()\n",
    "        convert = int(input(\"Pilih Operasi Yang Di Inginkan : \"))\n",
    "        if convert == 1:\n",
    "            cm = int(input(\"Masukkan Panjang (dalam Cm) :\"))\n",
    "            hasil = cv.cmToMeter(cm)\n",
    "            print(f\"Hasil Convert Cm ke Meter dari {cm} adalah {hasil}\")\n",
    "            \n",
    "\n",
    "        elif convert == 2:\n",
    "            meter = int(input(\"Masukkan Panjang (dalam Meter) : \"))\n",
    "            hasil = cv.meterToCm(meter)\n",
    "            print(f\"Hasil Convert Meter ke Cm dari {meter} adalah {hasil}\")\n",
    "        \n",
    "    elif pilihMenu == 2:\n",
    "        menuMath()\n",
    "        math = int(input(\"Pilih Operasi yang diinginkan: \"))\n",
    "        if math == 1:\n",
    "            num1 = int(input(\"Masukkan basis: \"))\n",
    "            num2 = int(input(\"Masukkan pangkat: \"))\n",
    "            hasil = mtk.addNumber(num1, num2)\n",
    "            print(f\"Hasil pangkat adalah: {hasil}\")\n",
    "        elif math == 2:\n",
    "            num1 = int(input(\"Masukkan bilangan 1: \"))\n",
    "            num2 = int(input(\"Masukkan bilangan 2: \"))\n",
    "            hasil = mtk.powNumber(num1, num2)\n",
    "            print(f\"Hasil tambah adalah: {hasil}\")\n",
    "        elif math == 3:\n",
    "            num1 = int(input(\"Masukkan bilangan 1: \"))\n",
    "            num2 = int(input(\"Masukkan bilangan 2: \"))\n",
    "            hasil = mtk.mulNumber(num1, num2)\n",
    "            print(f\"Hasil kurang adalah: {hasil}\")\n",
    "\n",
    "    elif pilihMenu == 3:\n",
    "        menuUbahBilangan()\n",
    "        ubil = int(input(\"Pilih Operasi yang diinginkan: \"))\n",
    "        if ubil == 1:\n",
    "            des = int(input(\"Masukkan bilangan desimal: \"))\n",
    "            hasil = ub.desToBiner(des)\n",
    "            print(f\"Hasil ubah Desimal ke Biner dari {des} adalah {hasil}\")\n",
    "\n",
    "        elif ubil == 2:\n",
    "            des = int(input(\"Masukkan bilangan desimal: \"))\n",
    "            hasil = ub.desToOktal(des)\n",
    "            print(f\"Hasil ubah Desimal ke Oktal dari {des} adalah {hasil}\")\n",
    "\n",
    "        elif ubil == 3:\n",
    "            des = int(input(\"Masukkan bilangan desimal: \"))\n",
    "            hasil = ub.desToHex(des)\n",
    "            print(f\"Hasil ubah Desimal ke Hexadesimal dari {des} adalah {hasil}\")\n",
    "            \n",
    "    elif pilihMenu == 4:\n",
    "        print(\"Thank You!\")\n",
    "        break"
   ]
  },
  {
   "cell_type": "code",
   "execution_count": null,
   "id": "af71cd46-4183-43bd-b582-c1568d204cf8",
   "metadata": {},
   "outputs": [],
   "source": []
  }
 ],
 "metadata": {
  "kernelspec": {
   "display_name": "Python [conda env:base] *",
   "language": "python",
   "name": "conda-base-py"
  },
  "language_info": {
   "codemirror_mode": {
    "name": "ipython",
    "version": 3
   },
   "file_extension": ".py",
   "mimetype": "text/x-python",
   "name": "python",
   "nbconvert_exporter": "python",
   "pygments_lexer": "ipython3",
   "version": "3.12.7"
  }
 },
 "nbformat": 4,
 "nbformat_minor": 5
}
