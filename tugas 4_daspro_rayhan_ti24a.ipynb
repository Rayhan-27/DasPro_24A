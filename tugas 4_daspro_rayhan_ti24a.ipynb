{
 "cells": [
  {
   "cell_type": "markdown",
   "id": "13aac3c7-da68-4eb6-87ee-316b54621bdd",
   "metadata": {},
   "source": [
    "<h1> 1. OPERATOR ARITMATIKA </h1>"
   ]
  },
  {
   "cell_type": "code",
   "execution_count": 5,
   "id": "ff310f20-61a4-4504-96a4-2963b29841f1",
   "metadata": {},
   "outputs": [
    {
     "name": "stdout",
     "output_type": "stream",
     "text": [
      "Apel yang diterima setiap teman budi yaitu  3.0  buah\n",
      "Apel yang diterima setiap teman budi setelah mendapat tambahan 8 apel yaitu  5.0  buah\n"
     ]
    }
   ],
   "source": [
    "# Budi memiliki 12 apel dan ingin membaginya dengan 4 temannya secara merata. Berapa apel yang diterima setiap teman?\n",
    "\n",
    "apelBudi = 12\n",
    "temanBudi = 4\n",
    "apelShare = 12 / 4 #apel yang diterima setiap teman budi\n",
    "\n",
    "print(\"Apel yang diterima setiap teman budi yaitu \", apelShare, \" buah\")\n",
    "\n",
    "# ---------------------------------------------------------------------------------------------------------------------------------\n",
    "#Jika Budi mendapatkan tambahan 8 apel, berapa total apel yang dimilikinya sekarang?\n",
    "\n",
    "tambahanApel = 8\n",
    "apelShare = (12 + 8) / 4\n",
    "\n",
    "print(\"Apel yang diterima setiap teman budi setelah mendapat tambahan 8 apel yaitu \", apelShare, \" buah\")"
   ]
  },
  {
   "cell_type": "markdown",
   "id": "f6972a2e-2185-457d-9b08-4f51b0e0cc38",
   "metadata": {},
   "source": [
    "<h1> 2. OPERATOR PERBANDINGAN </h1>"
   ]
  },
  {
   "cell_type": "code",
   "execution_count": 8,
   "id": "f6c79ae5-b2df-4024-98ad-ef68e777db74",
   "metadata": {},
   "outputs": [
    {
     "name": "stdout",
     "output_type": "stream",
     "text": [
      "Apakah tinggi Siti dan Andi sama?  False\n",
      "Apakah Siti lebih tinggi dari Andi?  False\n",
      "Apakah Andi lebih tinggi dari Siti?  True\n"
     ]
    }
   ],
   "source": [
    "# Siti memiliki tinggi 160 cm, sedangkan Andi 165 cm. Gunakan operator perbandingan untuk mengetahui siapa yang lebih tinggi\n",
    "\n",
    "tinggiSiti = 160\n",
    "tinggiAndi = 165\n",
    "\n",
    "print(\"Apakah tinggi Siti dan Andi sama? \", tinggiSiti==tinggiAndi)\n",
    "print(\"Apakah Siti lebih tinggi dari Andi? \", tinggiSiti>tinggiAndi)\n",
    "print(\"Apakah Andi lebih tinggi dari Siti? \", tinggiSiti<tinggiAndi)\n",
    "\n",
    "# Karena hasil pada opsi \"Andi lebih tinggi dari Siti\" itu true, maka Andi lebih tinggi dari siti"
   ]
  },
  {
   "cell_type": "markdown",
   "id": "b4655856-1ff0-4358-9b75-c6e6e070702a",
   "metadata": {},
   "source": [
    "<h1> 3. OPERATOR LOGIKA </h1> "
   ]
  },
  {
   "cell_type": "code",
   "execution_count": 17,
   "id": "32a1a4ea-4282-4e35-ac2e-ae748ffd2e1b",
   "metadata": {},
   "outputs": [
    {
     "name": "stdout",
     "output_type": "stream",
     "text": [
      "Apakah Cuaca di luar cerah? yes = 1, no = 0\n"
     ]
    },
    {
     "name": "stdin",
     "output_type": "stream",
     "text": [
      "Answer : 1\n"
     ]
    },
    {
     "name": "stdout",
     "output_type": "stream",
     "text": [
      "Apakah Budi sudah mengerjakan PR? yes = 1, no = 0\n"
     ]
    },
    {
     "name": "stdin",
     "output_type": "stream",
     "text": [
      "Answer : 1\n"
     ]
    },
    {
     "name": "stdout",
     "output_type": "stream",
     "text": [
      "Cuaca Cerah dan PR sudah selesai\n",
      "Apakah Budi bisa bermain di luar? :  True\n"
     ]
    }
   ],
   "source": [
    "# Budi hanya bisa bermain di luar jika cuaca cerah dan dia sudah menyelesaikan PR-nya. \n",
    "#Gunakan operator logika untuk mengevaluasi apakah Budi bisa bermain\n",
    "\n",
    "izin = 0\n",
    "print(\"Apakah Cuaca di luar cerah? yes = 1, no = 0\")\n",
    "cuacaCerah = int(input(\"Answer :\"))\n",
    "print(\"Apakah Budi sudah mengerjakan PR? yes = 1, no = 0\")\n",
    "tugasPR = int(input(\"Answer :\"))\n",
    "\n",
    "hasilCuaca = \"Cuaca Cerah\" if cuacaCerah == 1 else \"Cuaca tidak cerah\"\n",
    "hasilPR = \"PR sudah selesai\" if tugasPR == 1 else \"PR belum di kerjakan\"\n",
    "print(hasilCuaca, \"dan\", hasilPR)\n",
    "\n",
    "print(\"Apakah Budi bisa bermain di luar? : \", cuacaCerah > izin and izin < tugasPR)"
   ]
  },
  {
   "cell_type": "markdown",
   "id": "e645f9d9-8c8f-4792-80b2-ef0a4756630d",
   "metadata": {},
   "source": [
    "<h1> 4. OPERATOR BITWISE </h1>"
   ]
  },
  {
   "cell_type": "code",
   "execution_count": 24,
   "id": "bfec72c6-d2e0-4e7f-ac57-3e848d708a21",
   "metadata": {},
   "outputs": [
    {
     "name": "stdout",
     "output_type": "stream",
     "text": [
      "Biner dari  6  :  0b110\n",
      "Biner dari  3  :  0b11\n",
      "\n",
      "======== OPERASI AND =======\n",
      "0b110\n",
      "0b11\n",
      "--------------------------\n",
      "Hasil biner = 0b10\n",
      "Hasil desimalnya = 2\n",
      "\n",
      "======== OPERASI OR =======\n",
      "0b110\n",
      "0b11\n",
      "--------------------------\n",
      "Hasil biner = 0b10\n",
      "Hasil desimal = 7\n",
      "\n",
      "======== OPERASI XOR =======\n",
      "0b110\n",
      "0b11\n",
      "--------------------------\n",
      "Hasil biner = 0b10\n",
      "Hasil desimal = 5\n"
     ]
    }
   ],
   "source": [
    "# Jika angka 6 direpresentasikan dalam biner sebagai 0110 dan angka 3 sebagai 0011, hitung hasil operasi AND, OR, dan XOR\n",
    "\n",
    "bil1 = 6\n",
    "bil2 = 3\n",
    "\n",
    "print(\"Biner dari \", bil1, \" : \", bin(bil1))\n",
    "print(\"Biner dari \", bil2, \" : \", bin(bil2))\n",
    "\n",
    "#AND\n",
    "print(\"\")\n",
    "print(\"======== OPERASI AND =======\")\n",
    "bitwiseAnd = bil1 & bil2\n",
    "print(bin(bil1))\n",
    "print(bin(bil2))\n",
    "print(\"--------------------------\")\n",
    "print(\"Hasil biner =\", bin(bitwiseAnd))\n",
    "print(\"Hasil desimalnya =\", bitwiseAnd)\n",
    "\n",
    "#OR\n",
    "print(\"\")\n",
    "print(\"======== OPERASI OR =======\")\n",
    "bitwiseOR = bil1 | bil2\n",
    "print(bin(bil1))\n",
    "print(bin(bil2))\n",
    "print(\"--------------------------\")\n",
    "print(\"Hasil biner =\", bin(bitwiseAnd))\n",
    "print(\"Hasil desimal =\", bitwiseOR)\n",
    "\n",
    "#XOR\n",
    "print(\"\")\n",
    "print(\"======== OPERASI XOR =======\")\n",
    "bitwiseXOR = bil1 ^ bil2\n",
    "print(bin(bil1))\n",
    "print(bin(bil2))\n",
    "print(\"--------------------------\")\n",
    "print(\"Hasil biner =\", bin(bitwiseAnd))\n",
    "print(\"Hasil desimal =\", bitwiseXOR)"
   ]
  },
  {
   "cell_type": "markdown",
   "id": "503fd260-bf97-4290-af67-11b6c75d74a3",
   "metadata": {},
   "source": [
    "<h1> 5. OPERATOR PENUGASAN </h1>"
   ]
  },
  {
   "cell_type": "code",
   "execution_count": 3,
   "id": "d1041929-1208-4bed-bb80-749b7f7b1ace",
   "metadata": {},
   "outputs": [
    {
     "name": "stdout",
     "output_type": "stream",
     "text": [
      "Saldo pulsa awal sebanyak Rp 50000\n",
      "Total Pulsa setelah mengisi ulang sebanyak Rp 20000 yaitu menjadi Rp 70000\n",
      "Setelah membeli paket internet seharga Rp 30000, sisa pulsa menjadi Rp 40000\n"
     ]
    }
   ],
   "source": [
    "# Seorang siswa memiliki saldo pulsa Rp 50.000, lalu dia mengisi ulang Rp 20.000. Setelah itu, dia membeli paket internet seharga Rp 30.000\n",
    "# Gunakan operator penugasan untuk menghitung sisa saldo pulsa\n",
    "\n",
    "pulsa = 50000\n",
    "print(\"Saldo pulsa awal sebanyak Rp\", pulsa)\n",
    "\n",
    "pulsa+=20000\n",
    "print(\"Total Pulsa setelah mengisi ulang sebanyak Rp 20000 yaitu menjadi Rp\", pulsa)\n",
    "\n",
    "pulsa-=30000\n",
    "print(\"Setelah membeli paket internet seharga Rp 30000, sisa pulsa menjadi Rp\", pulsa)"
   ]
  },
  {
   "cell_type": "markdown",
   "id": "c250d070-eca0-4a63-8010-d8e89455714b",
   "metadata": {},
   "source": [
    "<h1> 6. OPERATOR KEANGGOTAAN </h1>"
   ]
  },
  {
   "cell_type": "code",
   "execution_count": 11,
   "id": "7d876303-efc4-4700-99e6-1d352ce966a6",
   "metadata": {},
   "outputs": [
    {
     "name": "stdout",
     "output_type": "stream",
     "text": [
      "Daftar Peserta : ['Andi', 'Budi', 'Citra', 'Dewi']\n"
     ]
    },
    {
     "name": "stdin",
     "output_type": "stream",
     "text": [
      "Cari nama peserta : Eka\n"
     ]
    },
    {
     "name": "stdout",
     "output_type": "stream",
     "text": [
      "Nama tidak terdaftar di peserta lomba\n",
      "\n",
      "===================================================================================================\n",
      "\n",
      "Saya suka belajar Python\n"
     ]
    },
    {
     "name": "stdin",
     "output_type": "stream",
     "text": [
      "Masukkan kata yang ingin dicari : Python\n"
     ]
    },
    {
     "name": "stdout",
     "output_type": "stream",
     "text": [
      "Apakah kata ada di dalam kalimat tersebut? : True\n"
     ]
    }
   ],
   "source": [
    "# Daftar peserta lomba coding adalah [\"Andi\",\"Budi\",\"Citra\",\"Dewi\"]. Gunakan operator keanggotaan untuk mengecek apakah \"Eka\" terdaftar sebagai peserta\n",
    "\n",
    "peserta = [\"Andi\",\"Budi\",\"Citra\",\"Dewi\"]\n",
    "print(\"Daftar Peserta :\", peserta)\n",
    "cariNama = input(\"Cari nama peserta :\")\n",
    "\n",
    "\n",
    "hasilPencarian = \"Nama terdaftar di peserta lomba\" if cariNama in peserta else \"Nama tidak terdaftar di peserta lomba\"\n",
    "print(hasilPencarian)\n",
    "\n",
    "print(\"\")\n",
    "print(\"===================================================================================================\")\n",
    "print(\"\")\n",
    "\n",
    "# Sebuah kalimat berbunyi \"Saya suka belajar Python\". Gunakan operator keanggotaan untuk mengecek apakah ada kata \"Python\" dalam kalimat tersebut\n",
    "\n",
    "kalimat = \"Saya suka belajar Python\"\n",
    "print(kalimat)\n",
    "cariKata = input(\"Masukkan kata yang ingin dicari :\")\n",
    "print(\"Apakah kata ada di dalam kalimat tersebut? :\", cariKata in kalimat)"
   ]
  },
  {
   "cell_type": "markdown",
   "id": "f842da85-9d98-4f13-ba15-953ef423e58d",
   "metadata": {},
   "source": [
    "<h1> 7. OPERATOR IDENTITAS </h1>"
   ]
  },
  {
   "cell_type": "code",
   "execution_count": 23,
   "id": "5a1e2bfb-47cb-4457-9e0a-dc7b6014f84b",
   "metadata": {},
   "outputs": [
    {
     "name": "stdout",
     "output_type": "stream",
     "text": [
      "Variabel X adalah 10\n",
      "Variabel y adalah 10\n",
      "Memori address dari variabel X  140732909955800\n",
      "Memori address dari variabel y  140732909955800\n",
      "Apakah x adalah y : True\n",
      "\n",
      "=================================================================================================\n",
      "\n",
      "Isi dari List 1 yaitu (10, 11, 12, 13)\n",
      "Isi dari list 2 yaitu (10, 11, 12, 13)\n",
      "Memori address dari list1 yaitu: 2705400400448\n",
      "Memori address dari list2 yaitu: 2705400398928\n",
      "Apakah memori address list 1 sama dengan list 2? False\n"
     ]
    }
   ],
   "source": [
    "# Jika dua variable x dan y memiliki nilai yang sama, gunakan operator identitas untuk memeriksa apakah mereka merujuk ke objek yang sama dalam memori\n",
    "\n",
    "x = 10\n",
    "y = 10\n",
    "print(\"Variabel X adalah\", x)\n",
    "print(\"Variabel y adalah\", y)\n",
    "print(\"Memori address dari variabel X \", id(x))\n",
    "print(\"Memori address dari variabel y \", id(y))\n",
    "print(\"Apakah x adalah y :\", x is y)\n",
    "\n",
    "print(\"\")\n",
    "print(\"=================================================================================================\")\n",
    "print(\"\")\n",
    "\n",
    "# Buat dua list dengan isi yang sama, lalu gunakan operator identitas untuk mengecek apakah kedua list tersebut mengacu ke objek yang sama\n",
    "\n",
    "list1 = (10,11,12,13)\n",
    "list2 = (10,11,12,13)\n",
    "print(\"Isi dari List 1 yaitu\", list1)\n",
    "print(\"Isi dari list 2 yaitu\", list2)\n",
    "print(\"Memori address dari list1 yaitu:\", id(list1))\n",
    "print(\"Memori address dari list2 yaitu:\", id(list2))\n",
    "print(\"Apakah memori address list 1 sama dengan list 2?\", list1 is list2)"
   ]
  },
  {
   "cell_type": "markdown",
   "id": "85f150fa-cfb6-4e96-a9ad-1f0fab6a3d7f",
   "metadata": {},
   "source": [
    "<h1> 8. OPERATOR TERNARY </h1>"
   ]
  },
  {
   "cell_type": "code",
   "execution_count": 28,
   "id": "2ab9d8c2-7147-4d0a-aadc-4df49e925b79",
   "metadata": {},
   "outputs": [
    {
     "name": "stdin",
     "output_type": "stream",
     "text": [
      "Masukkan angka untuk di cek : 10\n"
     ]
    },
    {
     "name": "stdout",
     "output_type": "stream",
     "text": [
      "Angka lebih kecil dari 100\n",
      "\n",
      "===============================================================================\n",
      "\n"
     ]
    },
    {
     "name": "stdin",
     "output_type": "stream",
     "text": [
      "Masukkan nilai : 50\n"
     ]
    },
    {
     "name": "stdout",
     "output_type": "stream",
     "text": [
      "Tidak lulus\n"
     ]
    }
   ],
   "source": [
    "# Gunakan operator ternary untuk menentukan apakah suatu angka lebih besar dari 100\n",
    "\n",
    "angka = int(input(\"Masukkan angka untuk di cek :\"))\n",
    "hasilCek = \"Angka lebih besar dari 100\" if angka > 100 else \"Angka lebih kecil dari 100\"\n",
    "print(hasilCek)\n",
    "\n",
    "print(\"\")\n",
    "print(\"===============================================================================\")\n",
    "print(\"\")\n",
    "\n",
    "# Gunakan operator ternary untuk mengembalikan \"Lulus\" jika nilai ujian lebih dari 70, atau \"Tidak Lulus\" jika kurang dari 70\n",
    "\n",
    "nilai = int(input(\"Masukkan nilai :\"))\n",
    "hasilNilai = \"Lulus\" if nilai > 70 else \"Tidak lulus\"\n",
    "print(hasilNilai)"
   ]
  }
 ],
 "metadata": {
  "kernelspec": {
   "display_name": "Python 3 (ipykernel)",
   "language": "python",
   "name": "python3"
  },
  "language_info": {
   "codemirror_mode": {
    "name": "ipython",
    "version": 3
   },
   "file_extension": ".py",
   "mimetype": "text/x-python",
   "name": "python",
   "nbconvert_exporter": "python",
   "pygments_lexer": "ipython3",
   "version": "3.12.7"
  }
 },
 "nbformat": 4,
 "nbformat_minor": 5
}
